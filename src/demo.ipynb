{
 "cells": [
  {
   "cell_type": "markdown",
   "metadata": {
    "collapsed": false
   },
   "source": [
    "# Github Live Tracker Project -- Demo and Explanation"
   ]
  },
  {
   "cell_type": "code",
   "execution_count": 5,
   "metadata": {
    "ExecuteTime": {
     "end_time": "2024-04-23T00:50:41.592442Z",
     "start_time": "2024-04-23T00:50:41.585312Z"
    },
    "collapsed": false
   },
   "outputs": [],
   "source": [
    "import os\n",
    "\n",
    "os.environ['ACCESS_TOKEN'] = ''"
   ]
  },
  {
   "cell_type": "markdown",
   "metadata": {
    "collapsed": false
   },
   "source": [
    "### New Repo Processor Demo -- Interesting insights about Valentyn's nickname\n",
    "\n",
    "Task:\n",
    "> Highlight the new projects that included the searched keyword. (Assume you have a data store that stores all streamed data so you can track if the given project was there before or not)\n",
    "\n",
    "For demo purposes, as a datastore, we would use prepopulated in-memory dictionary.\n",
    "\n",
    "Let's search for Valentyn's github nickname -- `BaLiKfromUA`\n"
   ]
  },
  {
   "cell_type": "code",
   "execution_count": 6,
   "metadata": {
    "ExecuteTime": {
     "end_time": "2024-04-22T21:13:04.008694Z",
     "start_time": "2024-04-22T21:13:02.735166Z"
    },
    "collapsed": true
   },
   "outputs": [
    {
     "name": "stdout",
     "output_type": "stream",
     "text": [
      "'coroutine' object has no attribute 'items'\n",
      "'coroutine' object has no attribute 'items'\n"
     ]
    },
    {
     "data": {
      "text/plain": [
       "<reactivex.disposable.disposable.Disposable at 0x119567e90>"
      ]
     },
     "execution_count": 6,
     "metadata": {},
     "output_type": "execute_result"
    }
   ],
   "source": [
    "from reactivex import Observable\n",
    "\n",
    "import github_client as gh\n",
    "import new_repo_processor as new_repo\n",
    "from message import GithubEvent\n",
    "\n",
    "from new_repo_processor import ReposPerKeywordStorage\n",
    "\n",
    "keyword = \"BaLiKfromUA\"\n",
    "\n",
    "storage: ReposPerKeywordStorage = {\n",
    "    keyword: {\"BaLiKfromUA/pylox\"}  # store Valentyn's repo which contains his nickname in README links\n",
    "}\n",
    "\n",
    "fetched_data: Observable[GithubEvent] = gh.fetch_data_as_observable(keyword)  # get GH data as stream\n",
    "data_processor = new_repo.filter_new_repos(storage)  # carry storage with data processor\n",
    "\n",
    "data_pipeline = data_processor(fetched_data)  # pipe fetched data and data processor\n",
    "\n",
    "# output relevant repo names\n",
    "data_pipeline.subscribe(\n",
    "    on_next=lambda event: print(f\"For keyword {event.keyword}, new repo was found -- {event.repo_name}\"),\n",
    "    on_error=print,\n",
    "    on_completed=lambda: print(\"New repo tracking completed\")\n",
    ")"
   ]
  },
  {
   "cell_type": "markdown",
   "metadata": {
    "collapsed": false
   },
   "source": [
    "If we check [darkbot-reloaded/DarkBotAPI](https://github.com/darkbot-reloaded/DarkBotAPI) for given keyword, we would find a link to Valentyn's old gist, lol.\n",
    "\n",
    "[https://github.com/darkbot-reloaded/DarkBotAPI/blob/9a9ca286a3d309d589b69ca4ab841339a176bf3d/config/pmd/pmd-rules.xml#L88](https://github.com/darkbot-reloaded/DarkBotAPI/blob/9a9ca286a3d309d589b69ca4ab841339a176bf3d/config/pmd/pmd-rules.xml#L88)"
   ]
  },
  {
   "cell_type": "markdown",
   "metadata": {
    "collapsed": false
   },
   "source": [
    "### Language statistics demo -- todolist implementations\n",
    "Task:\n",
    "> \n",
    "Let's search for projects which use `velox.api.layer0` dependency and get a statistics about such projects"
   ]
  },
  {
   "cell_type": "code",
   "execution_count": 7,
   "metadata": {
    "ExecuteTime": {
     "end_time": "2024-04-23T00:50:56.625038Z",
     "start_time": "2024-04-23T00:50:46.509189Z"
    },
    "collapsed": false
   },
   "outputs": [
    {
     "ename": "ModuleNotFoundError",
     "evalue": "No module named 'matplotlib'",
     "output_type": "error",
     "traceback": [
      "\u001b[0;31m---------------------------------------------------------------------------\u001b[0m",
      "\u001b[0;31mModuleNotFoundError\u001b[0m                       Traceback (most recent call last)",
      "Cell \u001b[0;32mIn[7], line 1\u001b[0m\n\u001b[0;32m----> 1\u001b[0m \u001b[38;5;28;01mimport\u001b[39;00m \u001b[38;5;21;01mmatplotlib\u001b[39;00m\u001b[38;5;21;01m.\u001b[39;00m\u001b[38;5;21;01mpyplot\u001b[39;00m \u001b[38;5;28;01mas\u001b[39;00m \u001b[38;5;21;01mplt\u001b[39;00m\n\u001b[1;32m      2\u001b[0m \u001b[38;5;28;01mfrom\u001b[39;00m \u001b[38;5;21;01mreactivex\u001b[39;00m \u001b[38;5;28;01mimport\u001b[39;00m Observable\n\u001b[1;32m      4\u001b[0m \u001b[38;5;28;01mimport\u001b[39;00m \u001b[38;5;21;01mgithub_client\u001b[39;00m \u001b[38;5;28;01mas\u001b[39;00m \u001b[38;5;21;01mgh\u001b[39;00m\n",
      "\u001b[0;31mModuleNotFoundError\u001b[0m: No module named 'matplotlib'"
     ]
    }
   ],
   "source": [
    "import matplotlib.pyplot as plt\n",
    "from reactivex import Observable\n",
    "\n",
    "import github_client as gh\n",
    "import language_stats_processor as lang\n",
    "from message import GithubEvent\n",
    "\n",
    "keyword = \"velox.api.layer0\"\n",
    "\n",
    "fetched_data: Observable[GithubEvent] = gh.fetch_data_as_observable(keyword)  # get GH data as stream\n",
    "data_processor = lang.get_lang_stats(dict())  # carry in-memory storage with data processor\n",
    "\n",
    "data_pipeline = data_processor(fetched_data)  # pipe fetched data and data processor\n",
    "\n",
    "stats = {}\n",
    "\n",
    "def setter(event: lang.LangStats):\n",
    "    stats[event.lang] = event.cnt\n",
    "\n",
    "\n",
    "data_pipeline.subscribe(on_next=setter, on_error=print,\n",
    "                        on_completed=lambda: print(\"Lang stats calculation completed\"))\n",
    "\n",
    "langs = list(stats.keys())\n",
    "cnts = list(stats.values())\n",
    "\n",
    "fig = plt.figure(figsize=(10, 10))\n",
    "plt.bar(langs, cnts, color='maroon', width=0.7)\n",
    "\n",
    "plt.xlabel(\"Programming language\")\n",
    "plt.ylabel(\"Repos found\")\n",
    "plt.title(\"Demo\")\n",
    "\n",
    "# Adjust font size and rotation for better readability\n",
    "plt.xticks(rotation=90, fontsize=8)\n",
    "plt.tight_layout()  # Adjust layout to prevent clipping of labels\n",
    "\n",
    "plt.show()"
   ]
  },
  {
   "cell_type": "markdown",
   "metadata": {
    "collapsed": false
   },
   "source": []
  },
  {
   "cell_type": "markdown",
   "metadata": {
    "collapsed": false
   },
   "source": [
    "A fact that Java is leading connected to the fact that library is written on Java so stats look good!"
   ]
  }
 ],
 "metadata": {
  "kernelspec": {
   "display_name": "Python 3",
   "language": "python",
   "name": "python3"
  },
  "language_info": {
   "codemirror_mode": {
    "name": "ipython",
    "version": 3
   },
   "file_extension": ".py",
   "mimetype": "text/x-python",
   "name": "python",
   "nbconvert_exporter": "python",
   "pygments_lexer": "ipython3",
   "version": "3.11.3"
  }
 },
 "nbformat": 4,
 "nbformat_minor": 0
}
